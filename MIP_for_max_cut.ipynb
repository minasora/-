{
 "cells": [
  {
   "cell_type": "code",
   "execution_count": 4,
   "metadata": {
    "ExecuteTime": {
     "end_time": "2020-06-07T14:39:27.347002Z",
     "start_time": "2020-06-07T14:39:27.341990Z"
    }
   },
   "outputs": [],
   "source": [
    "import gurobipy as gp\n",
    "from gurobipy import GRB\n",
    "from itertools import product\n",
    "from math import sqrt\n",
    "import numpy as np\n",
    "import random as rd\n",
    "import copy"
   ]
  },
  {
   "cell_type": "code",
   "execution_count": 5,
   "metadata": {
    "ExecuteTime": {
     "end_time": "2020-06-07T14:39:27.694752Z",
     "start_time": "2020-06-07T14:39:27.683194Z"
    }
   },
   "outputs": [],
   "source": [
    "def read_data(file_name):\n",
    "    edge = []\n",
    "    with open(file_name) as f:\n",
    "        data = f.readlines()\n",
    "    _,p,v = data[0].replace('\\n','').split(' ')\n",
    "    for i in data[1:]:\n",
    "        if i == '\\n':\n",
    "            break\n",
    "        line_data = i.split(' ')\n",
    "        edge.append((int(line_data[1]),int((line_data[2]).replace('\\n', ''))))\n",
    "    return edge,int(p),int(v)"
   ]
  },
  {
   "cell_type": "code",
   "execution_count": 6,
   "metadata": {
    "ExecuteTime": {
     "end_time": "2020-06-07T14:39:28.241325Z",
     "start_time": "2020-06-07T14:39:28.233772Z"
    }
   },
   "outputs": [],
   "source": [
    "edge,p,v = read_data('text.txt')"
   ]
  },
  {
   "cell_type": "code",
   "execution_count": 38,
   "metadata": {
    "ExecuteTime": {
     "end_time": "2020-06-03T08:16:44.355737Z",
     "start_time": "2020-06-03T08:16:44.352219Z"
    }
   },
   "outputs": [],
   "source": [
    "m = gp.Model('max-cut')"
   ]
  },
  {
   "cell_type": "code",
   "execution_count": 46,
   "metadata": {
    "ExecuteTime": {
     "end_time": "2020-06-03T10:11:47.525944Z",
     "start_time": "2020-06-03T08:26:13.915782Z"
    },
    "scrolled": false
   },
   "outputs": [
    {
     "name": "stdout",
     "output_type": "stream",
     "text": [
      "Gurobi Optimizer version 9.0.2 build v9.0.2rc0 (win64)\n",
      "Optimize a model with 7342 rows, 6027 columns and 22026 nonzeros\n",
      "Model fingerprint: 0x975fc689\n",
      "Variable types: 0 continuous, 6027 integer (6027 binary)\n",
      "Coefficient statistics:\n",
      "  Matrix range     [1e+00, 1e+00]\n",
      "  Objective range  [1e+00, 1e+00]\n",
      "  Bounds range     [1e+00, 1e+00]\n",
      "  RHS range        [2e+00, 2e+00]\n",
      "\n",
      "MIP start from previous solve produced solution with objective 482 (0.06s)\n",
      "MIP start from previous solve produced solution with objective 486 (5.87s)\n",
      "Loaded MIP start from previous solve with objective 486\n",
      "Processed MIP start in 12.29 seconds\n",
      "\n",
      "Presolve removed 5870 rows and 5166 columns\n",
      "Presolve time: 0.01s\n",
      "Presolved: 1472 rows, 861 columns, 4416 nonzeros\n",
      "Variable types: 0 continuous, 861 integer (861 binary)\n",
      "\n",
      "Root simplex log...\n",
      "\n",
      "Iteration    Objective       Primal Inf.    Dual Inf.      Time\n",
      "       0    7.3600000e+02   7.360000e+02   0.000000e+00     12s\n",
      "     132    7.3600000e+02   0.000000e+00   0.000000e+00     12s\n",
      "\n",
      "Root relaxation: objective 7.360000e+02, 132 iterations, 0.01 seconds\n",
      "\n",
      "    Nodes    |    Current Node    |     Objective Bounds      |     Work\n",
      " Expl Unexpl |  Obj  Depth IntInf | Incumbent    BestBd   Gap | It/Node Time\n",
      "\n",
      "     0     0  736.00000    0  125  486.00000  736.00000  51.4%     -   12s\n",
      "     0     0  586.56403    0  511  486.00000  586.56403  20.7%     -   12s\n",
      "     0     0  586.55288    0  509  486.00000  586.55288  20.7%     -   13s\n",
      "     0     0  561.48199    0  661  486.00000  561.48199  15.5%     -   13s\n",
      "     0     0  560.15782    0  657  486.00000  560.15782  15.3%     -   14s\n",
      "     0     0  559.59825    0  674  486.00000  559.59825  15.1%     -   14s\n",
      "     0     0  559.28613    0  683  486.00000  559.28613  15.1%     -   14s\n",
      "     0     0  559.17657    0  697  486.00000  559.17657  15.1%     -   14s\n",
      "     0     0  553.43870    0  758  486.00000  553.43870  13.9%     -   15s\n",
      "     0     0  552.49356    0  761  486.00000  552.49356  13.7%     -   16s\n",
      "     0     0  552.25418    0  769  486.00000  552.25418  13.6%     -   16s\n",
      "     0     0  552.10770    0  772  486.00000  552.10770  13.6%     -   16s\n",
      "     0     0  550.36527    0  761  486.00000  550.36527  13.2%     -   17s\n",
      "H    0     0                     487.0000000  550.36527  13.0%     -   17s\n",
      "     0     0  549.80259    0  782  487.00000  549.80259  12.9%     -   17s\n",
      "     0     0  549.55364    0  792  487.00000  549.55364  12.8%     -   18s\n",
      "     0     0  549.45818    0  798  487.00000  549.45818  12.8%     -   18s\n",
      "     0     0  547.29514    0  785  487.00000  547.29514  12.4%     -   19s\n",
      "     0     0  546.67941    0  797  487.00000  546.67941  12.3%     -   19s\n",
      "     0     0  546.36997    0  802  487.00000  546.36997  12.2%     -   19s\n",
      "     0     0  546.27725    0  805  487.00000  546.27725  12.2%     -   19s\n",
      "     0     0  545.24888    0  794  487.00000  545.24888  12.0%     -   20s\n",
      "     0     0  545.24888    0  794  487.00000  545.24888  12.0%     -   20s\n",
      "     0     2  545.24888    0  794  487.00000  545.24888  12.0%     -   21s\n",
      "    27    32  543.11943    6  820  487.00000  543.72713  11.6%  1887   25s\n",
      "    62    70  541.71272   11  780  487.00000  543.72713  11.6%  1379   30s\n",
      "   201   220  536.39221   35  695  487.00000  543.72713  11.6%   791   35s\n",
      "   483   532  523.33453   89  512  487.00000  543.72713  11.6%   493   40s\n",
      "   980   953  541.12012   12  791  487.00000  543.65550  11.6%   342   45s\n",
      "H  999   961                     488.0000000  543.65550  11.4%   349   45s\n",
      "  1035   990  523.87141   94  794  488.00000  543.65550  11.4%   365   54s\n",
      "  1037   991  513.20947  126  250  488.00000  543.65550  11.4%   364   55s\n",
      "  1049   999  513.02301  128  965  488.00000  540.94581  10.8%   360   60s\n",
      "  1088  1025  538.28234    6  979  488.00000  538.28234  10.3%   347   65s\n",
      "  1110  1040  538.05001   10  943  488.00000  538.05001  10.3%   340   70s\n",
      "  1125  1059  535.67441   16  977  488.00000  536.86900  10.0%   407   75s\n",
      "H 1142  1015                     489.0000000  536.06679  9.63%   436   77s\n",
      "  1165  1032  532.89010   18  972  489.00000  536.03423  9.62%   468   80s\n",
      "  1207  1062  530.84152   21  963  489.00000  535.67382  9.54%   508   85s\n",
      "  1266  1106  527.11885   23  952  489.00000  535.67382  9.54%   557   91s\n",
      "H 1302  1086                     490.0000000  535.67382  9.32%   570   94s\n",
      "H 1318  1033                     499.0000000  535.67382  7.35%   579   94s\n",
      "  1323  1037  525.04425   26  930  499.00000  535.67382  7.35%   579   95s\n",
      "* 1339   986              52     501.0000000  535.67382  6.92%   584   95s\n",
      "H 1351   944                     503.0000000  535.67382  6.50%   586   96s\n",
      "  1387   970  520.42253   30  906  503.00000  535.67382  6.50%   614  100s\n",
      "H 1422   946                     512.0000000  535.67382  4.62%   633  104s\n",
      "  1434   945  515.30250   34  890  512.00000  535.67382  4.62%   641  105s\n",
      "H 1457   913                     513.0000000  535.67382  4.42%   650  107s\n",
      "  1503   912  532.93027   18  974  513.00000  535.41431  4.37%   667  111s\n",
      "H 1511   872                     514.0000000  535.41431  4.17%   672  111s\n",
      "  1537   890  531.87128   19  970  514.00000  535.41431  4.17%   696  116s\n",
      "  1567   915  531.03335   19  970  514.00000  535.41431  4.17%   720  121s\n",
      "  1607   936  525.25230   23  951  514.00000  535.41431  4.17%   742  125s\n",
      "  1660   955  527.70670   22  956  514.00000  535.41431  4.17%   768  130s\n",
      "  1705   950  525.71111   23  957  514.00000  535.41431  4.17%   785  138s\n",
      "  1720   965  524.24954   24  951  514.00000  535.41431  4.17%   788  141s\n",
      "  1753   931  523.52516   24  948  514.00000  535.41431  4.17%   799  146s\n",
      "  1802   957  521.30535   24  953  514.00000  535.41431  4.17%   817  152s\n",
      "  1834   955     cutoff   27       514.00000  535.41431  4.17%   830  156s\n",
      "  1876   967     cutoff   28       514.00000  535.28808  4.14%   836  160s\n",
      "  1944   981  529.71599   19  967  514.00000  535.28808  4.14%   859  168s\n",
      "  1979   984  525.72287   22  958  514.00000  535.28808  4.14%   871  174s\n",
      "  2018   988  519.34586   26  941  514.00000  535.28808  4.14%   880  180s\n",
      "  2037  1001  516.48155   29  925  514.00000  534.41027  3.97%   888  185s\n",
      "  2093   997  532.61699   17  972  514.00000  534.41027  3.97%   898  190s\n",
      "  2142   998  527.81743   20  961  514.00000  534.41027  3.97%   913  195s\n",
      "  2177  1010  524.48717   22  952  514.00000  534.41027  3.97%   929  201s\n",
      "  2211  1032  517.17136   26  937  514.00000  534.41027  3.97%   943  207s\n",
      "  2252  1038  516.63860   28  921  514.00000  534.21361  3.93%   959  213s\n",
      "  2296  1045  529.87306   19  966  514.00000  534.21361  3.93%   977  220s\n",
      "  2317  1080  527.62174   20  964  514.00000  534.21361  3.93%   985  227s\n",
      "  2369  1101  526.97624   21  960  514.00000  534.21361  3.93%  1003  233s\n",
      "  2418  1113  522.00276   22  958  514.00000  534.21361  3.93%  1018  241s\n",
      "  2481  1108  520.37511   24  950  514.00000  534.21361  3.93%  1025  249s\n",
      "  2543  1119  520.34223   24  948  514.00000  534.21361  3.93%  1034  257s\n",
      "  2595  1126     cutoff   28       514.00000  533.21474  3.74%  1042  264s\n",
      "  2643  1146  526.30066   21  958  514.00000  533.21474  3.74%  1051  272s\n",
      "  2703  1167  515.76602   28  920  514.00000  532.96194  3.69%  1067  282s\n",
      "  2780  1159  525.93886   21  961  514.00000  532.96194  3.69%  1073  292s\n",
      "  2850  1141  516.43092   27  936  514.00000  532.76774  3.65%  1079  301s\n",
      "  2921  1141  526.91454   21  959  514.00000  532.76774  3.65%  1082  311s\n",
      "  3005  1127  515.01536   32  886  514.00000  532.61577  3.62%  1090  320s\n",
      "  3074  1135  522.63898   23  953  514.00000  532.44853  3.59%  1094  331s\n",
      "  3153  1139  529.58840   19  969  514.00000  532.44199  3.59%  1106  342s\n",
      "  3218  1167  517.34181   25  945  514.00000  532.04709  3.51%  1112  353s\n",
      "  3297  1220  528.03825   20  962  514.00000  531.88167  3.48%  1129  366s\n",
      "  3350  1267  522.72016   24  949  514.00000  531.88167  3.48%  1150  378s\n",
      "H 3397  1169                     516.0000000  531.88167  3.08%  1166  378s\n",
      "  3415  1211  520.03531   26  936  516.00000  531.87720  3.08%  1165  391s\n",
      "  3505  1242  524.95450   23  953  516.00000  531.87118  3.08%  1182  404s\n",
      "  3620  1269  524.73654   23  952  516.00000  531.45772  3.00%  1188  418s\n",
      "  3703  1302  527.32184   20  960  516.00000  531.45772  3.00%  1196  431s\n"
     ]
    },
    {
     "name": "stdout",
     "output_type": "stream",
     "text": [
      "  3796  1368     cutoff   27       516.00000  531.28215  2.96%  1211  445s\n",
      "  3872  1415     cutoff   30       516.00000  531.27624  2.96%  1228  462s\n",
      "  3981  1473     cutoff   26       516.00000  531.23025  2.95%  1236  478s\n",
      "  4065  1541  524.09693   23  954  516.00000  531.23025  2.95%  1252  494s\n",
      "  4187  1570  518.25973   27  940  516.00000  531.16436  2.94%  1266  510s\n",
      "  4310  1579  519.90669   25  948  516.00000  531.12166  2.93%  1272  528s\n",
      "  4450  1605  526.65138   21  966  516.00000  530.81762  2.87%  1280  546s\n",
      "  4575  1660  524.07766   24  953  516.00000  530.55399  2.82%  1285  566s\n",
      "  4732  1695     cutoff   27       516.00000  530.37611  2.79%  1289  585s\n",
      "  4867  1734  525.02943   21  960  516.00000  530.27217  2.77%  1293  607s\n",
      "  5033  1790     cutoff   25       516.00000  530.27217  2.77%  1298  629s\n",
      "  5169  1845     cutoff   26       516.00000  530.27217  2.77%  1311  651s\n",
      "  5294  1884  518.90759   24  946  516.00000  530.27217  2.77%  1324  674s\n",
      "  5471  1942  517.72726   24  951  516.00000  529.85774  2.69%  1332  698s\n",
      "  5653  1971  517.79160   28  926  516.00000  529.73707  2.66%  1334  723s\n",
      "  5829  2037  526.48358   21  963  516.00000  529.69857  2.65%  1339  750s\n",
      "  6020  2080     cutoff   33       516.00000  529.43228  2.60%  1342  777s\n",
      "  6215  2166  522.38604   24  949  516.00000  529.33194  2.58%  1346  805s\n",
      "  6391  2241  523.21035   21  956  516.00000  529.21212  2.56%  1363  835s\n",
      "  6589  2282  522.40897   24  937  516.00000  529.18670  2.56%  1374  866s\n",
      "  6801  2317  525.59913   21  959  516.00000  528.92627  2.51%  1380  898s\n",
      "  7013  2354     cutoff   26       516.00000  528.74339  2.47%  1385  933s\n",
      "  7221  2404  517.25922   26  931  516.00000  528.66736  2.45%  1391  968s\n",
      "  7452  2498  521.81040   23  953  516.00000  528.55535  2.43%  1396 1005s\n",
      "  7652  2540  520.70970   23  957  516.00000  528.44374  2.41%  1414 1045s\n",
      "  7903  2578  523.85874   23  957  516.00000  528.30761  2.39%  1415 1084s\n",
      "  8171  2632     cutoff   26       516.00000  528.16750  2.36%  1420 1125s\n",
      "  8457  2723  524.58576   21  956  516.00000  527.98833  2.32%  1424 1167s\n",
      "  8732  2726     cutoff   25       516.00000  527.89239  2.30%  1433 1212s\n",
      "  9088  2772  522.63192   23  958  516.00000  527.88568  2.30%  1432 1258s\n",
      "  9439  2824     cutoff   27       516.00000  527.79934  2.29%  1429 1306s\n",
      "  9779  2881  521.73689   26  942  516.00000  527.60883  2.25%  1431 1356s\n",
      " 10138  2949  522.55736   23  952  516.00000  527.43850  2.22%  1433 1407s\n",
      " 10494  2994  518.78712   24  945  516.00000  527.29804  2.19%  1438 1461s\n",
      " 10911  3080     cutoff   24       516.00000  527.16223  2.16%  1436 1517s\n",
      " 11289  3120  518.62551   26  944  516.00000  527.07286  2.15%  1442 1577s\n",
      " 11693  3171  517.72092   28  931  516.00000  526.86493  2.11%  1446 1640s\n",
      " 12141  3235  521.47100   26  943  516.00000  526.72356  2.08%  1449 1706s\n",
      " 12616  3299     cutoff   26       516.00000  526.58218  2.05%  1450 1773s\n",
      " 13101  3307  520.53793   25  949  516.00000  526.44942  2.03%  1454 1845s\n",
      " 13640  3384     cutoff   26       516.00000  526.41279  2.02%  1453 1918s\n",
      " 14166  3477  520.40507   27  943  516.00000  526.24680  1.99%  1458 1996s\n",
      " 14738  3566  521.28567   23  957  516.00000  526.09996  1.96%  1460 2076s\n",
      " 15333  3627  519.07066   28  920  516.00000  525.91193  1.92%  1461 2161s\n",
      " 15937  3715     cutoff   27       516.00000  525.77961  1.90%  1465 2249s\n",
      " 16614  3736  521.69482   24  945  516.00000  525.65297  1.87%  1463 2341s\n",
      " 17001  3753     cutoff   29       516.00000  525.54112  1.85%  1464 2435s\n",
      " 17737  3795  521.97629   26  943  516.00000  525.40815  1.82%  1460 2536s\n",
      " 18536  3839     cutoff   24       516.00000  525.24647  1.79%  1456 2635s\n",
      " 19259  3899  517.77598   26  941  516.00000  525.09187  1.76%  1459 2740s\n",
      " 20025  3936  517.67884   27  940  516.00000  524.91773  1.73%  1461 2849s\n",
      " 20840  3943     cutoff   26       516.00000  524.75737  1.70%  1461 2966s\n",
      " 21737  3958     cutoff   27       516.00000  524.62369  1.67%  1458 3082s\n",
      " 22596  3951  519.77692   23  951  516.00000  524.46864  1.64%  1460 3200s\n",
      " 23489  3932  520.10211   26  946  516.00000  524.34802  1.62%  1459 3321s\n",
      " 24340  3942  517.58307   26  941  516.00000  524.20259  1.59%  1459 3438s\n",
      " 25175  3932  517.61624   27  936  516.00000  524.08504  1.57%  1460 3554s\n",
      " 26068  3928     cutoff   27       516.00000  523.96519  1.54%  1458 3668s\n",
      " 26938  3905     cutoff   27       516.00000  523.82327  1.52%  1457 3780s\n",
      " 27775  3873  518.71474   26  934  516.00000  523.70346  1.49%  1457 3893s\n",
      " 28644  3830     cutoff   25       516.00000  523.57560  1.47%  1456 4006s\n",
      " 29541  3804  519.42652   25  949  516.00000  523.45899  1.45%  1454 4117s\n",
      " 30414  3805  521.95284   25  947  516.00000  523.33991  1.42%  1452 4503s\n",
      " 30433  3750  521.37381   26  945  516.00000  523.32358  1.42%  1452 4612s\n",
      " 31306  3679  518.12876   26  946  516.00000  523.18686  1.39%  1451 4722s\n",
      " 32186  3612  519.85465   28  931  516.00000  523.05717  1.37%  1450 4833s\n",
      " 33058  3531  518.74800   24  951  516.00000  522.93513  1.34%  1449 4940s\n",
      " 33887  3465  518.03408   26  946  516.00000  522.83121  1.32%  1449 5051s\n",
      " 34782  3375     cutoff   27       516.00000  522.71621  1.30%  1447 5161s\n",
      " 35668  3270     cutoff   25       516.00000  522.59089  1.28%  1446 5273s\n",
      " 36538  3163     cutoff   25       516.00000  522.45777  1.25%  1445 5383s\n",
      " 37413  3047     cutoff   26       516.00000  522.33161  1.23%  1443 5493s\n",
      " 38300  2923  518.16208   25  945  516.00000  522.19977  1.20%  1442 5603s\n",
      " 39182  2800     cutoff   27       516.00000  522.05687  1.17%  1440 5711s\n",
      " 40056  2665  517.00469   24  943  516.00000  521.93385  1.15%  1440 5820s\n",
      "*40935  2359              30     517.0000000  521.80460  0.93%  1438 5820s\n",
      " 40942  2114  518.70545   24  949  517.00000  521.80110  0.93%  1438 5928s\n",
      " 41834  1861     cutoff   26       517.00000  521.59317  0.89%  1437 6032s\n",
      " 42685  1540  518.58494   26  941  517.00000  521.31127  0.83%  1437 6133s\n",
      " 43568  1135  518.11801   28  934  517.00000  520.92390  0.76%  1436 6229s\n",
      " 44453   687     cutoff   27       517.00000  520.30094  0.64%  1433 6298s\n",
      " 45165   195     cutoff   29       517.00000  519.35286  0.46%  1429 6330s\n",
      "\n",
      "Cutting planes:\n",
      "  MIR: 37\n",
      "  Flow cover: 47\n",
      "  Zero half: 1\n",
      "  RLT: 1\n",
      "\n",
      "Explored 45871 nodes (64994441 simplex iterations) in 6333.51 seconds\n",
      "Thread count was 8 (of 8 available processors)\n",
      "\n",
      "Solution count 10: 517 516 514 ... 489\n",
      "\n",
      "Optimal solution found (tolerance 1.00e-04)\n",
      "Best objective 5.170000000000e+02, best bound 5.170000000000e+02, gap 0.0000%\n"
     ]
    }
   ],
   "source": [
    "x = m.addVars(p,vtype=GRB.BINARY,name='x')\n",
    "e = m.addVars(len(edge),vtype=GRB.BINARY,name='edge')\n",
    "m.addConstrs(e[j] <= x[i[0]-1] + x[i[1]-1] for j,i in enumerate(edge))\n",
    "m.addConstrs(e[j] <= 2 -x[i[0]-1] - x[i[1]-1] for j,i in enumerate(edge))\n",
    "m.setObjective(gp.quicksum(e[i] for i in range(len(e))),GRB.MAXIMIZE)\n",
    "m.optimize()"
   ]
  },
  {
   "cell_type": "code",
   "execution_count": 7,
   "metadata": {
    "ExecuteTime": {
     "end_time": "2020-06-07T14:39:34.368410Z",
     "start_time": "2020-06-07T14:39:34.363884Z"
    }
   },
   "outputs": [],
   "source": [
    "def ini_solution(p):\n",
    "    \"\"\"\n",
    "    node's number\n",
    "    \"\"\"\n",
    "    solution = []\n",
    "    for i in range(p):\n",
    "        solution.append(rd.randint(0,1))\n",
    "    return solution"
   ]
  },
  {
   "cell_type": "code",
   "execution_count": 8,
   "metadata": {
    "ExecuteTime": {
     "end_time": "2020-06-07T14:39:34.763510Z",
     "start_time": "2020-06-07T14:39:34.760510Z"
    }
   },
   "outputs": [],
   "source": [
    "solution = ini_solution(p)"
   ]
  },
  {
   "cell_type": "code",
   "execution_count": 9,
   "metadata": {
    "ExecuteTime": {
     "end_time": "2020-06-07T14:39:35.316033Z",
     "start_time": "2020-06-07T14:39:35.311523Z"
    }
   },
   "outputs": [],
   "source": [
    "def get_obj(solution):\n",
    "    obj = 0\n",
    "    for i in range(len(solution)):\n",
    "        for a,b in edge:\n",
    "            if a == i:\n",
    "                if solution[b] != solution[i]:\n",
    "                    obj += 1\n",
    "    return obj"
   ]
  },
  {
   "cell_type": "code",
   "execution_count": 10,
   "metadata": {
    "ExecuteTime": {
     "end_time": "2020-06-07T14:39:36.551745Z",
     "start_time": "2020-06-07T14:39:36.543718Z"
    }
   },
   "outputs": [
    {
     "name": "stdout",
     "output_type": "stream",
     "text": [
      "359\n"
     ]
    }
   ],
   "source": [
    "print(get_obj(solution))"
   ]
  },
  {
   "cell_type": "code",
   "execution_count": 106,
   "metadata": {
    "ExecuteTime": {
     "end_time": "2020-06-03T10:56:21.663620Z",
     "start_time": "2020-06-03T10:56:21.654576Z"
    }
   },
   "outputs": [],
   "source": [
    "def ls(solution):\n",
    "    for i in range(1000):\n",
    "        new_solution = copy.deepcopy(solution)\n",
    "        j = rd.randint(0,len(solution)-1)\n",
    "        obj = get_obj(new_solution)\n",
    "        if new_solution[j]==1:\n",
    "            new_solution[j]=0\n",
    "        else:\n",
    "            new_solution[j]=1\n",
    "        new_obj = get_obj(new_solution)\n",
    "        if new_obj>obj:\n",
    "            solution = new_solution\n",
    "            print(new_obj)\n",
    "    return solution"
   ]
  },
  {
   "cell_type": "code",
   "execution_count": 43,
   "metadata": {
    "ExecuteTime": {
     "end_time": "2020-06-07T15:11:11.486860Z",
     "start_time": "2020-06-07T15:11:11.477312Z"
    }
   },
   "outputs": [],
   "source": [
    "class ga_solution:\n",
    "    obj = 0\n",
    "    solution = []\n",
    "    def __init__(self,p):\n",
    "        self.solution = ini_solution(p)\n",
    "        self.obj = get_obj(self.solution)\n",
    "    def mutation(self):\n",
    "        j = rd.randint(0, len(self.solution)-1)\n",
    "        if self.solution[j] == 1:\n",
    "            self.solution[j] = 0\n",
    "        else:\n",
    "            self.solution[j] = 1\n",
    "        self.obj = get_obj(self.solution)\n",
    "    def update(self):\n",
    "        self.obj = get_obj(self.solution)"
   ]
  },
  {
   "cell_type": "code",
   "execution_count": 44,
   "metadata": {
    "ExecuteTime": {
     "end_time": "2020-06-07T15:11:11.984478Z",
     "start_time": "2020-06-07T15:11:11.975447Z"
    }
   },
   "outputs": [
    {
     "name": "stdout",
     "output_type": "stream",
     "text": [
      "378\n"
     ]
    }
   ],
   "source": [
    "solution = ga_solution(p)\n",
    "print(solution.obj)"
   ]
  },
  {
   "cell_type": "code",
   "execution_count": 60,
   "metadata": {
    "ExecuteTime": {
     "end_time": "2020-06-07T15:16:39.277964Z",
     "start_time": "2020-06-07T15:16:39.268410Z"
    }
   },
   "outputs": [],
   "source": [
    "def crossover(solutions):\n",
    "    p = rd.randint(0, len(solutions)-1)\n",
    "    q = rd.randint(0, len(solutions)-1)\n",
    "    i = rd.randint(0,len(solutions[p].solution)-1)\n",
    "    j = rd.randint(0,len(solutions[p].solution)-1)\n",
    "    if i > j:\n",
    "        i,j = j,i\n",
    "    mid = solutions[p].solution[i:j]\n",
    "    solutions[p].solution[i:j] = solutions[q].solution[i:j]\n",
    "    solutions[q].solution[i:j] = mid\n",
    "    solutions[p].update()\n",
    "    solutions[q].update()\n",
    "    \n",
    "    return solutions\n",
    "    \n",
    "\n",
    "    "
   ]
  },
  {
   "cell_type": "code",
   "execution_count": 61,
   "metadata": {
    "ExecuteTime": {
     "end_time": "2020-06-07T15:16:39.677864Z",
     "start_time": "2020-06-07T15:16:39.669821Z"
    }
   },
   "outputs": [],
   "source": [
    "def select(solutions):\n",
    "    \"\"\"\n",
    "    轮盘赌算法\n",
    "    \"\"\"\n",
    "    new_solutions = []\n",
    "    obj_sum = sum([i.obj for i in solutions])\n",
    "    perc = [i.obj/obj_sum for i in solutions]\n",
    "    for i in range(len(solutions)-1):\n",
    "        rn = rd.random()\n",
    "        for j in range(len(perc)-1):\n",
    "            if rn >= sum(perc[:j]):\n",
    "                new_solutions.append(solutions[j])\n",
    "    return new_solutions\n",
    "    "
   ]
  },
  {
   "cell_type": "code",
   "execution_count": 66,
   "metadata": {
    "ExecuteTime": {
     "end_time": "2020-06-07T15:18:09.159480Z",
     "start_time": "2020-06-07T15:18:09.149432Z"
    }
   },
   "outputs": [],
   "source": [
    "def ga(solutions):\n",
    "    for i in range(100):\n",
    "        solutions = crossover(solutions)\n",
    "        solutions = select(solutions)\n",
    "        for j in range(10):\n",
    "            t = rd.randint(0,len(solutions)-1)\n",
    "            print(solutions[t].obj)\n",
    "            solutions[t].mutation()\n",
    "    p_mean = sum(i.obj for i in solutions)/len(solutions)\n",
    "    print(p_mean)\n",
    "    \n",
    "        "
   ]
  },
  {
   "cell_type": "code",
   "execution_count": null,
   "metadata": {
    "ExecuteTime": {
     "start_time": "2020-06-07T15:18:09.446Z"
    }
   },
   "outputs": [
    {
     "name": "stdout",
     "output_type": "stream",
     "text": [
      "379\n",
      "366\n",
      "362\n",
      "368\n",
      "359\n",
      "359\n",
      "367\n",
      "350\n",
      "375\n",
      "364\n",
      "363\n",
      "369\n",
      "370\n",
      "369\n",
      "353\n",
      "375\n",
      "377\n",
      "379\n",
      "370\n",
      "372\n"
     ]
    }
   ],
   "source": [
    "solutions = []\n",
    "for i in range(20):\n",
    "    solution = ga_solution(p)\n",
    "    solutions.append(solution)\n",
    "\n",
    "ga(solutions)"
   ]
  },
  {
   "cell_type": "code",
   "execution_count": null,
   "metadata": {},
   "outputs": [],
   "source": []
  }
 ],
 "metadata": {
  "kernelspec": {
   "display_name": "Python 3",
   "language": "python",
   "name": "python3"
  },
  "language_info": {
   "codemirror_mode": {
    "name": "ipython",
    "version": 3
   },
   "file_extension": ".py",
   "mimetype": "text/x-python",
   "name": "python",
   "nbconvert_exporter": "python",
   "pygments_lexer": "ipython3",
   "version": "3.7.6"
  },
  "nbTranslate": {
   "displayLangs": [
    "*"
   ],
   "hotkey": "alt-t",
   "langInMainMenu": true,
   "sourceLang": "en",
   "targetLang": "fr",
   "useGoogleTranslate": true
  },
  "toc": {
   "base_numbering": 1,
   "nav_menu": {},
   "number_sections": true,
   "sideBar": true,
   "skip_h1_title": false,
   "title_cell": "Table of Contents",
   "title_sidebar": "Contents",
   "toc_cell": false,
   "toc_position": {},
   "toc_section_display": true,
   "toc_window_display": false
  },
  "varInspector": {
   "cols": {
    "lenName": 16,
    "lenType": 16,
    "lenVar": 40
   },
   "kernels_config": {
    "python": {
     "delete_cmd_postfix": "",
     "delete_cmd_prefix": "del ",
     "library": "var_list.py",
     "varRefreshCmd": "print(var_dic_list())"
    },
    "r": {
     "delete_cmd_postfix": ") ",
     "delete_cmd_prefix": "rm(",
     "library": "var_list.r",
     "varRefreshCmd": "cat(var_dic_list()) "
    }
   },
   "types_to_exclude": [
    "module",
    "function",
    "builtin_function_or_method",
    "instance",
    "_Feature"
   ],
   "window_display": false
  }
 },
 "nbformat": 4,
 "nbformat_minor": 4
}
