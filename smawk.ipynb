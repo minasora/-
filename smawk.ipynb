{
 "cells": [
  {
   "cell_type": "code",
   "execution_count": 37,
   "metadata": {
    "ExecuteTime": {
     "end_time": "2020-06-14T16:02:57.576202Z",
     "start_time": "2020-06-14T16:02:57.561200Z"
    }
   },
   "outputs": [],
   "source": [
    "def smawk(rows,cols,lookup):\n",
    "\t\n",
    "    # base case of recursion\n",
    "\n",
    "    if not rows: return {}\n",
    "\t\n",
    "    # reduce phase: make number of columns at most equal to number of rows\n",
    "    stack = []\n",
    "    for c in cols:\n",
    "        while len(stack) >= 1 and \\\n",
    "          lookup(rows[len(stack)-1],stack[-1]) < lookup(rows[len(stack)-1],c):\n",
    "            stack.pop()\n",
    "        if len(stack) != len(rows):\n",
    "            stack.append(c)\n",
    "\n",
    "    cols = stack\n",
    "\n",
    "    # recursive call to search for every odd row\n",
    "    result = smawk([rows[i] for i in range(1,len(rows),2)],cols,lookup)\n",
    "\n",
    "    # go back and fill in the even rows\n",
    "    c = 0\n",
    "    for r in range(0,len(rows),2):\n",
    "        row = rows[r]\n",
    "        if r == len(rows) - 1:\n",
    "            cc = len(cols)-1  # if r is last row, search through last col\n",
    "        else:\n",
    "            cc = c            # otherwise only until pos of max in row r+1\n",
    "            target = result[rows[r+1]]\n",
    "            while cols[cc] != target:\n",
    "                cc += 1\n",
    "        \n",
    "        result[row] = max([ (cols[x]) for x in range(c,cc+1) ])\n",
    "        c = cc\n",
    "    return result\n",
    "def smawk_to_min(rows,cols,lookup):\n",
    "    result = smawk(rows,cols,lookup)\n",
    "    min_rows = [(i+1,j+1) for i,j in result.items()]\n",
    "    a = [lookup(i-1,j-1)  for i,j in min_rows]\n",
    "    res_i = a.index(min(a))\n",
    "    return min(a),min_rows[res_i]"
   ]
  },
  {
   "cell_type": "code",
   "execution_count": 38,
   "metadata": {
    "ExecuteTime": {
     "end_time": "2020-06-14T16:02:57.991792Z",
     "start_time": "2020-06-14T16:02:57.988237Z"
    }
   },
   "outputs": [],
   "source": [
    "def lookup(i,j):\n",
    "    return A[i,j]\n",
    "import numpy as np"
   ]
  },
  {
   "cell_type": "code",
   "execution_count": 42,
   "metadata": {
    "ExecuteTime": {
     "end_time": "2020-06-14T16:03:47.504108Z",
     "start_time": "2020-06-14T16:03:47.498109Z"
    }
   },
   "outputs": [
    {
     "data": {
      "text/plain": [
       "array([[65, 77, 83],\n",
       "       [72, 74, 70],\n",
       "       [41, 32, 18]])"
      ]
     },
     "execution_count": 42,
     "metadata": {},
     "output_type": "execute_result"
    }
   ],
   "source": [
    "global A\n",
    "A =[65,77,83,72,74,70,41,32,18]\n",
    "A = np.asarray(A).reshape(3,3)\n",
    "A"
   ]
  },
  {
   "cell_type": "code",
   "execution_count": 43,
   "metadata": {
    "ExecuteTime": {
     "end_time": "2020-06-14T16:03:48.156196Z",
     "start_time": "2020-06-14T16:03:48.152197Z"
    }
   },
   "outputs": [],
   "source": [
    "a = [i for i in range(3)]\n",
    "b = [i for i in range(3)]"
   ]
  },
  {
   "cell_type": "code",
   "execution_count": 44,
   "metadata": {
    "ExecuteTime": {
     "end_time": "2020-06-14T16:03:48.535224Z",
     "start_time": "2020-06-14T16:03:48.529226Z"
    }
   },
   "outputs": [
    {
     "data": {
      "text/plain": [
       "(18, (3, 3))"
      ]
     },
     "execution_count": 44,
     "metadata": {},
     "output_type": "execute_result"
    }
   ],
   "source": [
    "smawk_to_min(a,b,lookup)"
   ]
  },
  {
   "cell_type": "code",
   "execution_count": null,
   "metadata": {},
   "outputs": [],
   "source": []
  },
  {
   "cell_type": "code",
   "execution_count": null,
   "metadata": {},
   "outputs": [],
   "source": []
  }
 ],
 "metadata": {
  "kernelspec": {
   "display_name": "Python 3",
   "language": "python",
   "name": "python3"
  },
  "language_info": {
   "codemirror_mode": {
    "name": "ipython",
    "version": 3
   },
   "file_extension": ".py",
   "mimetype": "text/x-python",
   "name": "python",
   "nbconvert_exporter": "python",
   "pygments_lexer": "ipython3",
   "version": "3.7.6"
  },
  "nbTranslate": {
   "displayLangs": [
    "*"
   ],
   "hotkey": "alt-t",
   "langInMainMenu": true,
   "sourceLang": "en",
   "targetLang": "fr",
   "useGoogleTranslate": true
  },
  "toc": {
   "base_numbering": 1,
   "nav_menu": {},
   "number_sections": true,
   "sideBar": true,
   "skip_h1_title": false,
   "title_cell": "Table of Contents",
   "title_sidebar": "Contents",
   "toc_cell": false,
   "toc_position": {},
   "toc_section_display": true,
   "toc_window_display": false
  },
  "varInspector": {
   "cols": {
    "lenName": 16,
    "lenType": 16,
    "lenVar": 40
   },
   "kernels_config": {
    "python": {
     "delete_cmd_postfix": "",
     "delete_cmd_prefix": "del ",
     "library": "var_list.py",
     "varRefreshCmd": "print(var_dic_list())"
    },
    "r": {
     "delete_cmd_postfix": ") ",
     "delete_cmd_prefix": "rm(",
     "library": "var_list.r",
     "varRefreshCmd": "cat(var_dic_list()) "
    }
   },
   "types_to_exclude": [
    "module",
    "function",
    "builtin_function_or_method",
    "instance",
    "_Feature"
   ],
   "window_display": false
  }
 },
 "nbformat": 4,
 "nbformat_minor": 4
}
